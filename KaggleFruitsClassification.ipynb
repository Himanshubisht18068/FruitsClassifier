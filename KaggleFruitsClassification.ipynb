{
  "nbformat": 4,
  "nbformat_minor": 0,
  "metadata": {
    "colab": {
      "name": "KaggleFruitsClassification.ipynb",
      "version": "0.3.2",
      "provenance": [],
      "collapsed_sections": []
    },
    "kernelspec": {
      "name": "python3",
      "display_name": "Python 3"
    },
    "accelerator": "GPU"
  },
  "cells": [
    {
      "metadata": {
        "id": "AhzH9NBtGOVP",
        "colab_type": "code",
        "colab": {}
      },
      "cell_type": "code",
      "source": [
        "# To allow Collabs to access Google Drive\n",
        "!apt-get install -y -qq software-properties-common python-software-properties module-init-tools\n",
        "!add-apt-repository -y ppa:alessandro-strada/ppa 2>&1 > /dev/null\n",
        "!apt-get update -qq 2>&1 > /dev/null\n",
        "!apt-get -y install -qq google-drive-ocamlfuse fuse\n",
        "from google.colab import auth\n",
        "auth.authenticate_user()\n",
        "from oauth2client.client import GoogleCredentials\n",
        "creds = GoogleCredentials.get_application_default()\n",
        "import getpass\n",
        "!google-drive-ocamlfuse -headless -id={creds.client_id} -secret={creds.client_secret} < /dev/null 2>&1 | grep URL\n",
        "vcode = getpass.getpass()\n",
        "!echo {vcode} | google-drive-ocamlfuse -headless -id={creds.client_id} -secret={creds.client_secret}\n",
        "\n",
        "\n",
        "!mkdir -p drive\n",
        "!google-drive-ocamlfuse drive"
      ],
      "execution_count": 0,
      "outputs": []
    },
    {
      "metadata": {
        "id": "mccfCqvuGeG9",
        "colab_type": "code",
        "colab": {}
      },
      "cell_type": "code",
      "source": [
        "# To Access Kaggle\n",
        "!pip install kaggle\n",
        "\n",
        "from google.colab import files\n",
        "files.upload() \n",
        "\n",
        "!mkdir -p ~/.kaggle\n",
        "!cp kaggle.json ~/.kaggle\n",
        "!chmod 600 ~/.kaggle/kaggle.json\n",
        "\n",
        "!kaggle datasets download -d moltean/fruits"
      ],
      "execution_count": 0,
      "outputs": []
    },
    {
      "metadata": {
        "id": "EXGWdOwpG_62",
        "colab_type": "code",
        "colab": {}
      },
      "cell_type": "code",
      "source": [
        "import zipfile\n",
        "local_zip = '/content/fruits.zip'\n",
        "zip_ref = zipfile.ZipFile(local_zip, 'r')\n",
        "zip_ref.extractall('/content/')\n",
        "zip_ref.close()"
      ],
      "execution_count": 0,
      "outputs": []
    },
    {
      "metadata": {
        "id": "NgHmXZzWzmgH",
        "colab_type": "code",
        "colab": {}
      },
      "cell_type": "code",
      "source": [
        ""
      ],
      "execution_count": 0,
      "outputs": []
    },
    {
      "metadata": {
        "id": "5vfLpVl8HQ0o",
        "colab_type": "code",
        "colab": {}
      },
      "cell_type": "code",
      "source": [
        "import tensorflow \n",
        "from math import ceil\n",
        "from tensorflow.keras import Sequential\n",
        "from tensorflow.keras.models import load_model\n",
        "from tensorflow.keras.layers import Conv2D, MaxPooling2D\n",
        "from tensorflow.keras.preprocessing.image import ImageDataGenerator\n",
        "from tensorflow.keras.layers import Dense, Dropout, Activation, Flatten\n"
      ],
      "execution_count": 0,
      "outputs": []
    },
    {
      "metadata": {
        "id": "LPmpG54WIB1V",
        "colab_type": "code",
        "colab": {}
      },
      "cell_type": "code",
      "source": [
        "isTrain = 0\n",
        "useTrainedModel = 1 - isTrain\n",
        "nEpochs = 5\n",
        "batchSizeTrain = 32\n",
        "batchSizeTest = 32"
      ],
      "execution_count": 0,
      "outputs": []
    },
    {
      "metadata": {
        "id": "tCkGPU-wJxNA",
        "colab_type": "code",
        "colab": {}
      },
      "cell_type": "code",
      "source": [
        "if(isTrain):\n",
        "    TrainDataGenerator = ImageDataGenerator()\n",
        "    TrainGenerator = TrainDataGenerator.flow_from_directory(\n",
        "        \"./fruits-360/Training/\",\n",
        "        target_size=(100, 100),\n",
        "        color_mode='rgb',\n",
        "        class_mode='categorical',\n",
        "        batch_size=batchSizeTrain,\n",
        "        shuffle=True\n",
        "    )"
      ],
      "execution_count": 0,
      "outputs": []
    },
    {
      "metadata": {
        "id": "ZyCRo3vrH8SB",
        "colab_type": "code",
        "colab": {}
      },
      "cell_type": "code",
      "source": [
        "if(isTrain):\n",
        "    model = Sequential()\n",
        "    model.add(Conv2D(32, (3,3), strides=1, padding='same', input_shape=TrainGenerator.image_shape ))\n",
        "    model.add(Activation('tanh'))\n",
        "    model.add(Conv2D(64, (3,3), strides=1, padding='valid'))\n",
        "    model.add(Activation('relu'))\n",
        "    model.add(Conv2D(128, (3,3), strides=1, padding='valid'))\n",
        "    model.add(Activation('relu'))\n",
        "    model.add(MaxPooling2D(pool_size=2))\n",
        "    model.add(Flatten())\n",
        "    model.add(Dense(512))\n",
        "    model.add(Activation('relu'))\n",
        "    model.add(Dense(64))\n",
        "    model.add(Activation('relu'))\n",
        "    model.add(Dense(TrainGenerator.num_classes))\n",
        "    model.add(Activation('softmax'))\n",
        "\n",
        "    opt = tensorflow.keras.optimizers.SGD(lr=0.001)\n",
        "    \n",
        "    model.compile(loss='categorical_crossentropy', optimizer=opt, metrics=['accuracy'])\n",
        "    \n",
        "    cb = tensorflow.keras.callbacks.EarlyStopping(\n",
        "        monitor='acc',\n",
        "        min_delta=0.001,\n",
        "        patience=0,\n",
        "        verbose=0,\n",
        "        mode='max'\n",
        "    )"
      ],
      "execution_count": 0,
      "outputs": []
    },
    {
      "metadata": {
        "id": "41lHNhfnH9xT",
        "colab_type": "code",
        "colab": {}
      },
      "cell_type": "code",
      "source": [
        "if(isTrain):\n",
        "    #TODO: Create this directory in your drive \"/Machine_Learning/Models_Training/\"\n",
        "    index = 0\n",
        "    while True:\n",
        "        res = model.fit_generator(\n",
        "                TrainGenerator,\n",
        "                steps_per_epoch = ceil(TrainGenerator.classes.size / TrainGenerator.batch_size),\n",
        "                epochs = nEpochs,\n",
        "                callbacks = [cb]\n",
        "            )\n",
        "        model.save('drive/Machine_Learning/Models_Training/' + str(index) +'KaggleFruits.h5')\n",
        "        del model\n",
        "        if len(res.epoch) != nEpochs:\n",
        "            break\n",
        "\n",
        "        model = load_model('drive/Machine_Learning/Models_Training/' + str(index) +'KaggleFruits.h5')\n",
        "        index += 1\n",
        "        index = index % 2"
      ],
      "execution_count": 0,
      "outputs": []
    },
    {
      "metadata": {
        "id": "suTd-eN0y7hb",
        "colab_type": "code",
        "colab": {}
      },
      "cell_type": "code",
      "source": [
        "if(useTrainedModel):\n",
        "    #TODO: download this File from the my Google Drive (https://drive.google.com/file/d/1a9u_wEviYj3DJJpcTqiBhdsJTLVLo7AF/view?usp=sharing)\n",
        "    #      and move it to your drive in this directory\n",
        "    model = load_model('drive/Machine_Learning/TrainedModels/KaggleFruits.h5')"
      ],
      "execution_count": 0,
      "outputs": []
    },
    {
      "metadata": {
        "id": "3y4wnzFugjOk",
        "colab_type": "code",
        "colab": {
          "base_uri": "https://localhost:8080/",
          "height": 35
        },
        "outputId": "93e70035-119a-4606-8822-dfaa92a92cde"
      },
      "cell_type": "code",
      "source": [
        "TestDataGenerator = ImageDataGenerator()\n",
        "TestGenerator = TestDataGenerator.flow_from_directory(\n",
        "    './fruits-360/Test/',\n",
        "    target_size=(100, 100),\n",
        "    color_mode='rgb',\n",
        "    class_mode='categorical',\n",
        "    batch_size=batchSizeTrain,\n",
        "    shuffle=True\n",
        ")"
      ],
      "execution_count": 21,
      "outputs": [
        {
          "output_type": "stream",
          "text": [
            "Found 16421 images belonging to 95 classes.\n"
          ],
          "name": "stdout"
        }
      ]
    },
    {
      "metadata": {
        "id": "7pF2KlfuwEqC",
        "colab_type": "code",
        "colab": {
          "base_uri": "https://localhost:8080/",
          "height": 54
        },
        "outputId": "36a19efc-4e09-43a3-86f4-9c5515c05804"
      },
      "cell_type": "code",
      "source": [
        "scores = model.evaluate_generator(TestGenerator, steps=ceil(TestGenerator.classes.size / TestGenerator.batch_size))\n",
        "print('Test loss:', scores[0])\n",
        "print('Test accuracy:', scores[1])"
      ],
      "execution_count": 22,
      "outputs": [
        {
          "output_type": "stream",
          "text": [
            "Test loss: 0.12384282786703527\n",
            "Test accuracy: 0.9598685\n"
          ],
          "name": "stdout"
        }
      ]
    },
    {
      "metadata": {
        "id": "24mqs-P-5Yi8",
        "colab_type": "code",
        "colab": {}
      },
      "cell_type": "code",
      "source": [
        ""
      ],
      "execution_count": 0,
      "outputs": []
    }
  ]
}